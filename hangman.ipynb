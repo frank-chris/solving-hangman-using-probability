{
 "cells": [
  {
   "cell_type": "markdown",
   "metadata": {},
   "source": [
    "## Solving Hangman using probability"
   ]
  },
  {
   "cell_type": "markdown",
   "metadata": {},
   "source": [
    "### Read file\n",
    "\n",
    "The file `word_counts.txt` contains the frequency of each 5-letter word from a corpus. The file is formatted as follows: each line contains a word and its frequency, separated by a space. The file is sorted in alphabetical order."
   ]
  },
  {
   "cell_type": "code",
   "execution_count": 1,
   "metadata": {},
   "outputs": [
    {
     "data": {
      "text/html": [
       "<div>\n",
       "<style scoped>\n",
       "    .dataframe tbody tr th:only-of-type {\n",
       "        vertical-align: middle;\n",
       "    }\n",
       "\n",
       "    .dataframe tbody tr th {\n",
       "        vertical-align: top;\n",
       "    }\n",
       "\n",
       "    .dataframe thead th {\n",
       "        text-align: right;\n",
       "    }\n",
       "</style>\n",
       "<table border=\"1\" class=\"dataframe\">\n",
       "  <thead>\n",
       "    <tr style=\"text-align: right;\">\n",
       "      <th></th>\n",
       "      <th>w</th>\n",
       "      <th>count(w)</th>\n",
       "    </tr>\n",
       "  </thead>\n",
       "  <tbody>\n",
       "    <tr>\n",
       "      <th>0</th>\n",
       "      <td>AARON</td>\n",
       "      <td>413.0</td>\n",
       "    </tr>\n",
       "    <tr>\n",
       "      <th>1</th>\n",
       "      <td>ABABA</td>\n",
       "      <td>199.0</td>\n",
       "    </tr>\n",
       "    <tr>\n",
       "      <th>2</th>\n",
       "      <td>ABACK</td>\n",
       "      <td>64.0</td>\n",
       "    </tr>\n",
       "    <tr>\n",
       "      <th>3</th>\n",
       "      <td>ABATE</td>\n",
       "      <td>69.0</td>\n",
       "    </tr>\n",
       "    <tr>\n",
       "      <th>4</th>\n",
       "      <td>ABBAS</td>\n",
       "      <td>290.0</td>\n",
       "    </tr>\n",
       "    <tr>\n",
       "      <th>...</th>\n",
       "      <td>...</td>\n",
       "      <td>...</td>\n",
       "    </tr>\n",
       "    <tr>\n",
       "      <th>6530</th>\n",
       "      <td>ZVIAD</td>\n",
       "      <td>30.0</td>\n",
       "    </tr>\n",
       "    <tr>\n",
       "      <th>6531</th>\n",
       "      <td>ZWEIG</td>\n",
       "      <td>44.0</td>\n",
       "    </tr>\n",
       "    <tr>\n",
       "      <th>6532</th>\n",
       "      <td>ZWICK</td>\n",
       "      <td>34.0</td>\n",
       "    </tr>\n",
       "    <tr>\n",
       "      <th>6533</th>\n",
       "      <td>ZYCIE</td>\n",
       "      <td>14.0</td>\n",
       "    </tr>\n",
       "    <tr>\n",
       "      <th>6534</th>\n",
       "      <td>ZYMAN</td>\n",
       "      <td>16.0</td>\n",
       "    </tr>\n",
       "  </tbody>\n",
       "</table>\n",
       "<p>6535 rows × 2 columns</p>\n",
       "</div>"
      ],
      "text/plain": [
       "          w  count(w)\n",
       "0     AARON     413.0\n",
       "1     ABABA     199.0\n",
       "2     ABACK      64.0\n",
       "3     ABATE      69.0\n",
       "4     ABBAS     290.0\n",
       "...     ...       ...\n",
       "6530  ZVIAD      30.0\n",
       "6531  ZWEIG      44.0\n",
       "6532  ZWICK      34.0\n",
       "6533  ZYCIE      14.0\n",
       "6534  ZYMAN      16.0\n",
       "\n",
       "[6535 rows x 2 columns]"
      ]
     },
     "execution_count": 1,
     "metadata": {},
     "output_type": "execute_result"
    }
   ],
   "source": [
    "import pandas as pd\n",
    "\n",
    "# set display precision to 8, default is 6\n",
    "pd.set_option(\"display.precision\", 8)\n",
    "\n",
    "word_data = pd.read_csv(\"word_counts.txt\", sep=\" \", header=None, names=[\"w\", \"count(w)\"], dtype={\"w\":\"str\", \"count(w)\":\"float64\"})\n",
    "word_data"
   ]
  },
  {
   "cell_type": "markdown",
   "metadata": {},
   "source": [
    "### Prior probability\n",
    "\n",
    "We calculate the prior probabilities of the words by dividing the frequency of each word by the total number of words in the corpus."
   ]
  },
  {
   "cell_type": "code",
   "execution_count": 2,
   "metadata": {},
   "outputs": [
    {
     "data": {
      "text/html": [
       "<div>\n",
       "<style scoped>\n",
       "    .dataframe tbody tr th:only-of-type {\n",
       "        vertical-align: middle;\n",
       "    }\n",
       "\n",
       "    .dataframe tbody tr th {\n",
       "        vertical-align: top;\n",
       "    }\n",
       "\n",
       "    .dataframe thead th {\n",
       "        text-align: right;\n",
       "    }\n",
       "</style>\n",
       "<table border=\"1\" class=\"dataframe\">\n",
       "  <thead>\n",
       "    <tr style=\"text-align: right;\">\n",
       "      <th></th>\n",
       "      <th>w</th>\n",
       "      <th>count(w)</th>\n",
       "      <th>P(w)</th>\n",
       "    </tr>\n",
       "  </thead>\n",
       "  <tbody>\n",
       "    <tr>\n",
       "      <th>0</th>\n",
       "      <td>AARON</td>\n",
       "      <td>413.0</td>\n",
       "      <td>0.00005388</td>\n",
       "    </tr>\n",
       "    <tr>\n",
       "      <th>1</th>\n",
       "      <td>ABABA</td>\n",
       "      <td>199.0</td>\n",
       "      <td>0.00002596</td>\n",
       "    </tr>\n",
       "    <tr>\n",
       "      <th>2</th>\n",
       "      <td>ABACK</td>\n",
       "      <td>64.0</td>\n",
       "      <td>0.00000835</td>\n",
       "    </tr>\n",
       "    <tr>\n",
       "      <th>3</th>\n",
       "      <td>ABATE</td>\n",
       "      <td>69.0</td>\n",
       "      <td>0.00000900</td>\n",
       "    </tr>\n",
       "    <tr>\n",
       "      <th>4</th>\n",
       "      <td>ABBAS</td>\n",
       "      <td>290.0</td>\n",
       "      <td>0.00003784</td>\n",
       "    </tr>\n",
       "    <tr>\n",
       "      <th>...</th>\n",
       "      <td>...</td>\n",
       "      <td>...</td>\n",
       "      <td>...</td>\n",
       "    </tr>\n",
       "    <tr>\n",
       "      <th>6530</th>\n",
       "      <td>ZVIAD</td>\n",
       "      <td>30.0</td>\n",
       "      <td>0.00000391</td>\n",
       "    </tr>\n",
       "    <tr>\n",
       "      <th>6531</th>\n",
       "      <td>ZWEIG</td>\n",
       "      <td>44.0</td>\n",
       "      <td>0.00000574</td>\n",
       "    </tr>\n",
       "    <tr>\n",
       "      <th>6532</th>\n",
       "      <td>ZWICK</td>\n",
       "      <td>34.0</td>\n",
       "      <td>0.00000444</td>\n",
       "    </tr>\n",
       "    <tr>\n",
       "      <th>6533</th>\n",
       "      <td>ZYCIE</td>\n",
       "      <td>14.0</td>\n",
       "      <td>0.00000183</td>\n",
       "    </tr>\n",
       "    <tr>\n",
       "      <th>6534</th>\n",
       "      <td>ZYMAN</td>\n",
       "      <td>16.0</td>\n",
       "      <td>0.00000209</td>\n",
       "    </tr>\n",
       "  </tbody>\n",
       "</table>\n",
       "<p>6535 rows × 3 columns</p>\n",
       "</div>"
      ],
      "text/plain": [
       "          w  count(w)        P(w)\n",
       "0     AARON     413.0  0.00005388\n",
       "1     ABABA     199.0  0.00002596\n",
       "2     ABACK      64.0  0.00000835\n",
       "3     ABATE      69.0  0.00000900\n",
       "4     ABBAS     290.0  0.00003784\n",
       "...     ...       ...         ...\n",
       "6530  ZVIAD      30.0  0.00000391\n",
       "6531  ZWEIG      44.0  0.00000574\n",
       "6532  ZWICK      34.0  0.00000444\n",
       "6533  ZYCIE      14.0  0.00000183\n",
       "6534  ZYMAN      16.0  0.00000209\n",
       "\n",
       "[6535 rows x 3 columns]"
      ]
     },
     "execution_count": 2,
     "metadata": {},
     "output_type": "execute_result"
    }
   ],
   "source": [
    "word_data[\"P(w)\"] = word_data[\"count(w)\"]/word_data[\"count(w)\"].sum()\n",
    "word_data"
   ]
  },
  {
   "cell_type": "markdown",
   "metadata": {},
   "source": [
    "### Fifteen most frequent 5-letter words"
   ]
  },
  {
   "cell_type": "code",
   "execution_count": 3,
   "metadata": {},
   "outputs": [
    {
     "data": {
      "text/html": [
       "<div>\n",
       "<style scoped>\n",
       "    .dataframe tbody tr th:only-of-type {\n",
       "        vertical-align: middle;\n",
       "    }\n",
       "\n",
       "    .dataframe tbody tr th {\n",
       "        vertical-align: top;\n",
       "    }\n",
       "\n",
       "    .dataframe thead th {\n",
       "        text-align: right;\n",
       "    }\n",
       "</style>\n",
       "<table border=\"1\" class=\"dataframe\">\n",
       "  <thead>\n",
       "    <tr style=\"text-align: right;\">\n",
       "      <th></th>\n",
       "      <th>w</th>\n",
       "      <th>count(w)</th>\n",
       "      <th>P(w)</th>\n",
       "    </tr>\n",
       "  </thead>\n",
       "  <tbody>\n",
       "    <tr>\n",
       "      <th>5821</th>\n",
       "      <td>THREE</td>\n",
       "      <td>273077.0</td>\n",
       "      <td>0.03562715</td>\n",
       "    </tr>\n",
       "    <tr>\n",
       "      <th>5102</th>\n",
       "      <td>SEVEN</td>\n",
       "      <td>178842.0</td>\n",
       "      <td>0.02333272</td>\n",
       "    </tr>\n",
       "    <tr>\n",
       "      <th>1684</th>\n",
       "      <td>EIGHT</td>\n",
       "      <td>165764.0</td>\n",
       "      <td>0.02162650</td>\n",
       "    </tr>\n",
       "    <tr>\n",
       "      <th>6403</th>\n",
       "      <td>WOULD</td>\n",
       "      <td>159875.0</td>\n",
       "      <td>0.02085818</td>\n",
       "    </tr>\n",
       "    <tr>\n",
       "      <th>18</th>\n",
       "      <td>ABOUT</td>\n",
       "      <td>157448.0</td>\n",
       "      <td>0.02054154</td>\n",
       "    </tr>\n",
       "    <tr>\n",
       "      <th>5804</th>\n",
       "      <td>THEIR</td>\n",
       "      <td>145434.0</td>\n",
       "      <td>0.01897413</td>\n",
       "    </tr>\n",
       "    <tr>\n",
       "      <th>6320</th>\n",
       "      <td>WHICH</td>\n",
       "      <td>142146.0</td>\n",
       "      <td>0.01854516</td>\n",
       "    </tr>\n",
       "    <tr>\n",
       "      <th>73</th>\n",
       "      <td>AFTER</td>\n",
       "      <td>110102.0</td>\n",
       "      <td>0.01436452</td>\n",
       "    </tr>\n",
       "    <tr>\n",
       "      <th>1975</th>\n",
       "      <td>FIRST</td>\n",
       "      <td>109957.0</td>\n",
       "      <td>0.01434560</td>\n",
       "    </tr>\n",
       "    <tr>\n",
       "      <th>1947</th>\n",
       "      <td>FIFTY</td>\n",
       "      <td>106869.0</td>\n",
       "      <td>0.01394273</td>\n",
       "    </tr>\n",
       "    <tr>\n",
       "      <th>4158</th>\n",
       "      <td>OTHER</td>\n",
       "      <td>106052.0</td>\n",
       "      <td>0.01383614</td>\n",
       "    </tr>\n",
       "    <tr>\n",
       "      <th>2073</th>\n",
       "      <td>FORTY</td>\n",
       "      <td>94951.0</td>\n",
       "      <td>0.01238784</td>\n",
       "    </tr>\n",
       "    <tr>\n",
       "      <th>6457</th>\n",
       "      <td>YEARS</td>\n",
       "      <td>88900.0</td>\n",
       "      <td>0.01159839</td>\n",
       "    </tr>\n",
       "    <tr>\n",
       "      <th>5806</th>\n",
       "      <td>THERE</td>\n",
       "      <td>86502.0</td>\n",
       "      <td>0.01128553</td>\n",
       "    </tr>\n",
       "    <tr>\n",
       "      <th>5250</th>\n",
       "      <td>SIXTY</td>\n",
       "      <td>73086.0</td>\n",
       "      <td>0.00953521</td>\n",
       "    </tr>\n",
       "  </tbody>\n",
       "</table>\n",
       "</div>"
      ],
      "text/plain": [
       "          w  count(w)        P(w)\n",
       "5821  THREE  273077.0  0.03562715\n",
       "5102  SEVEN  178842.0  0.02333272\n",
       "1684  EIGHT  165764.0  0.02162650\n",
       "6403  WOULD  159875.0  0.02085818\n",
       "18    ABOUT  157448.0  0.02054154\n",
       "5804  THEIR  145434.0  0.01897413\n",
       "6320  WHICH  142146.0  0.01854516\n",
       "73    AFTER  110102.0  0.01436452\n",
       "1975  FIRST  109957.0  0.01434560\n",
       "1947  FIFTY  106869.0  0.01394273\n",
       "4158  OTHER  106052.0  0.01383614\n",
       "2073  FORTY   94951.0  0.01238784\n",
       "6457  YEARS   88900.0  0.01159839\n",
       "5806  THERE   86502.0  0.01128553\n",
       "5250  SIXTY   73086.0  0.00953521"
      ]
     },
     "execution_count": 3,
     "metadata": {},
     "output_type": "execute_result"
    }
   ],
   "source": [
    "word_data.nlargest(15,\"P(w)\")"
   ]
  },
  {
   "cell_type": "markdown",
   "metadata": {},
   "source": [
    "### Fourteen least frequent 5-letter words"
   ]
  },
  {
   "cell_type": "code",
   "execution_count": 4,
   "metadata": {},
   "outputs": [
    {
     "data": {
      "text/html": [
       "<div>\n",
       "<style scoped>\n",
       "    .dataframe tbody tr th:only-of-type {\n",
       "        vertical-align: middle;\n",
       "    }\n",
       "\n",
       "    .dataframe tbody tr th {\n",
       "        vertical-align: top;\n",
       "    }\n",
       "\n",
       "    .dataframe thead th {\n",
       "        text-align: right;\n",
       "    }\n",
       "</style>\n",
       "<table border=\"1\" class=\"dataframe\">\n",
       "  <thead>\n",
       "    <tr style=\"text-align: right;\">\n",
       "      <th></th>\n",
       "      <th>w</th>\n",
       "      <th>count(w)</th>\n",
       "      <th>P(w)</th>\n",
       "    </tr>\n",
       "  </thead>\n",
       "  <tbody>\n",
       "    <tr>\n",
       "      <th>712</th>\n",
       "      <td>BOSAK</td>\n",
       "      <td>6.0</td>\n",
       "      <td>0.00000078</td>\n",
       "    </tr>\n",
       "    <tr>\n",
       "      <th>895</th>\n",
       "      <td>CAIXA</td>\n",
       "      <td>6.0</td>\n",
       "      <td>0.00000078</td>\n",
       "    </tr>\n",
       "    <tr>\n",
       "      <th>3554</th>\n",
       "      <td>MAPCO</td>\n",
       "      <td>6.0</td>\n",
       "      <td>0.00000078</td>\n",
       "    </tr>\n",
       "    <tr>\n",
       "      <th>4160</th>\n",
       "      <td>OTTIS</td>\n",
       "      <td>6.0</td>\n",
       "      <td>0.00000078</td>\n",
       "    </tr>\n",
       "    <tr>\n",
       "      <th>5985</th>\n",
       "      <td>TROUP</td>\n",
       "      <td>6.0</td>\n",
       "      <td>0.00000078</td>\n",
       "    </tr>\n",
       "    <tr>\n",
       "      <th>977</th>\n",
       "      <td>CCAIR</td>\n",
       "      <td>7.0</td>\n",
       "      <td>0.00000091</td>\n",
       "    </tr>\n",
       "    <tr>\n",
       "      <th>1107</th>\n",
       "      <td>CLEFT</td>\n",
       "      <td>7.0</td>\n",
       "      <td>0.00000091</td>\n",
       "    </tr>\n",
       "    <tr>\n",
       "      <th>1842</th>\n",
       "      <td>FABRI</td>\n",
       "      <td>7.0</td>\n",
       "      <td>0.00000091</td>\n",
       "    </tr>\n",
       "    <tr>\n",
       "      <th>2041</th>\n",
       "      <td>FOAMY</td>\n",
       "      <td>7.0</td>\n",
       "      <td>0.00000091</td>\n",
       "    </tr>\n",
       "    <tr>\n",
       "      <th>3978</th>\n",
       "      <td>NIAID</td>\n",
       "      <td>7.0</td>\n",
       "      <td>0.00000091</td>\n",
       "    </tr>\n",
       "    <tr>\n",
       "      <th>4266</th>\n",
       "      <td>PAXON</td>\n",
       "      <td>7.0</td>\n",
       "      <td>0.00000091</td>\n",
       "    </tr>\n",
       "    <tr>\n",
       "      <th>5093</th>\n",
       "      <td>SERNA</td>\n",
       "      <td>7.0</td>\n",
       "      <td>0.00000091</td>\n",
       "    </tr>\n",
       "    <tr>\n",
       "      <th>5872</th>\n",
       "      <td>TOCOR</td>\n",
       "      <td>7.0</td>\n",
       "      <td>0.00000091</td>\n",
       "    </tr>\n",
       "    <tr>\n",
       "      <th>6443</th>\n",
       "      <td>YALOM</td>\n",
       "      <td>7.0</td>\n",
       "      <td>0.00000091</td>\n",
       "    </tr>\n",
       "  </tbody>\n",
       "</table>\n",
       "</div>"
      ],
      "text/plain": [
       "          w  count(w)        P(w)\n",
       "712   BOSAK       6.0  0.00000078\n",
       "895   CAIXA       6.0  0.00000078\n",
       "3554  MAPCO       6.0  0.00000078\n",
       "4160  OTTIS       6.0  0.00000078\n",
       "5985  TROUP       6.0  0.00000078\n",
       "977   CCAIR       7.0  0.00000091\n",
       "1107  CLEFT       7.0  0.00000091\n",
       "1842  FABRI       7.0  0.00000091\n",
       "2041  FOAMY       7.0  0.00000091\n",
       "3978  NIAID       7.0  0.00000091\n",
       "4266  PAXON       7.0  0.00000091\n",
       "5093  SERNA       7.0  0.00000091\n",
       "5872  TOCOR       7.0  0.00000091\n",
       "6443  YALOM       7.0  0.00000091"
      ]
     },
     "execution_count": 4,
     "metadata": {},
     "output_type": "execute_result"
    }
   ],
   "source": [
    "word_data.nsmallest(14,\"P(w)\")"
   ]
  },
  {
   "cell_type": "markdown",
   "metadata": {},
   "source": [
    "### Best next guess and its probability"
   ]
  },
  {
   "cell_type": "code",
   "execution_count": 5,
   "metadata": {},
   "outputs": [],
   "source": [
    "def next_guess(word_data:pd.DataFrame, correctly_guessed:str, incorrectly_guessed:list):\n",
    "    \"\"\"\n",
    "    Function that takes the word data (word, count, P(word)), correctly guessed\n",
    "    and incorrectly guessed as inputs and returns the best next guess and the\n",
    "    probability of that guess as outputs\n",
    "    \"\"\"\n",
    "    used_letters = set(correctly_guessed.replace(\"_\", \"\") + \"\".join(incorrectly_guessed))\n",
    "    correctly_guessed_letters = set(correctly_guessed.replace(\"_\", \"\"))\n",
    "    if len(used_letters):\n",
    "        probable_words = word_data[word_data[\"w\"].str.match(correctly_guessed.replace(\"_\", \"[^\" + \"\".join(used_letters) + \"]\"))]\n",
    "    else:\n",
    "        probable_words = word_data[word_data[\"w\"].str.match(correctly_guessed.replace(\"_\", \".\"))]\n",
    "    probable_letters = set(\"\".join(probable_words[\"w\"])) - correctly_guessed_letters\n",
    "\n",
    "    best_next_guess = \"\"\n",
    "    probability_of_next_best_guess = 0\n",
    "    for l in probable_letters:\n",
    "        sum_prob = 0\n",
    "        for w in probable_words[\"w\"]:\n",
    "            if l in w:\n",
    "                sum_prob += probable_words.loc[probable_words[\"w\"] == w, \"P(w)\"].item()/probable_words[\"P(w)\"].sum()\n",
    "        if sum_prob > probability_of_next_best_guess:\n",
    "            probability_of_next_best_guess = sum_prob\n",
    "            best_next_guess = l\n",
    "\n",
    "    return best_next_guess, probability_of_next_best_guess"
   ]
  },
  {
   "cell_type": "markdown",
   "metadata": {},
   "source": [
    "### Examples\n",
    "\n",
    "* `correctly guessed` is the current status of the word, with the letters that have been correctly guessed filled in and the letters that have not been guessed yet replaced with underscores.\n",
    "* `incorrectly guessed` is the list of letters that have been incorrectly guessed.\n",
    "* `best next guess` is the best next guess.\n",
    "* `probability of the guess` is the probability of the best next guess."
   ]
  },
  {
   "cell_type": "code",
   "execution_count": 6,
   "metadata": {},
   "outputs": [
    {
     "name": "stdout",
     "output_type": "stream",
     "text": [
      "correctly guessed:  _____ , incorrectly guessed:  []\n",
      "best next guess: E , probability of the guess:  0.5394172389647987\n"
     ]
    }
   ],
   "source": [
    "inputs = \"_____\", []\n",
    "print(\"correctly guessed: \", inputs[0], \", incorrectly guessed: \", inputs[1])\n",
    "outputs = next_guess(word_data, *inputs)\n",
    "print(\"best next guess:\", outputs[0], \", probability of the guess: \", outputs[1])"
   ]
  },
  {
   "cell_type": "code",
   "execution_count": 7,
   "metadata": {},
   "outputs": [
    {
     "name": "stdout",
     "output_type": "stream",
     "text": [
      "correctly guessed:  _____ , incorrectly guessed:  ['E', 'A']\n",
      "best next guess: O , probability of the guess:  0.5340315651557663\n"
     ]
    }
   ],
   "source": [
    "inputs = \"_____\", [\"E\", \"A\"]\n",
    "print(\"correctly guessed: \", inputs[0], \", incorrectly guessed: \", inputs[1])\n",
    "outputs = next_guess(word_data, *inputs)\n",
    "print(\"best next guess:\", outputs[0], \", probability of the guess: \", outputs[1])"
   ]
  },
  {
   "cell_type": "code",
   "execution_count": 8,
   "metadata": {},
   "outputs": [
    {
     "name": "stdout",
     "output_type": "stream",
     "text": [
      "correctly guessed:  A___S , incorrectly guessed:  []\n",
      "best next guess: E , probability of the guess:  0.7715371621621622\n"
     ]
    }
   ],
   "source": [
    "inputs = \"A___S\", []\n",
    "print(\"correctly guessed: \", inputs[0], \", incorrectly guessed: \", inputs[1])\n",
    "outputs = next_guess(word_data, *inputs)\n",
    "print(\"best next guess:\", outputs[0], \", probability of the guess: \", outputs[1])"
   ]
  },
  {
   "cell_type": "code",
   "execution_count": 9,
   "metadata": {},
   "outputs": [
    {
     "name": "stdout",
     "output_type": "stream",
     "text": [
      "correctly guessed:  A___S , incorrectly guessed:  ['I']\n",
      "best next guess: E , probability of the guess:  0.7127008416220354\n"
     ]
    }
   ],
   "source": [
    "inputs = \"A___S\", [\"I\"]\n",
    "print(\"correctly guessed: \", inputs[0], \", incorrectly guessed: \", inputs[1])\n",
    "outputs = next_guess(word_data, *inputs)\n",
    "print(\"best next guess:\", outputs[0], \", probability of the guess: \", outputs[1])"
   ]
  },
  {
   "cell_type": "code",
   "execution_count": 10,
   "metadata": {},
   "outputs": [
    {
     "name": "stdout",
     "output_type": "stream",
     "text": [
      "correctly guessed:  __O__ , incorrectly guessed:  ['A', 'E', 'M', 'N', 'T']\n",
      "best next guess: R , probability of the guess:  0.7453866259829713\n"
     ]
    }
   ],
   "source": [
    "inputs = \"__O__\", [\"A\", \"E\", \"M\", \"N\", \"T\"]\n",
    "print(\"correctly guessed: \", inputs[0], \", incorrectly guessed: \", inputs[1])\n",
    "outputs = next_guess(word_data, *inputs)\n",
    "print(\"best next guess:\", outputs[0], \", probability of the guess: \", outputs[1])"
   ]
  },
  {
   "cell_type": "code",
   "execution_count": 11,
   "metadata": {},
   "outputs": [
    {
     "name": "stdout",
     "output_type": "stream",
     "text": [
      "correctly guessed:  _____ , incorrectly guessed:  ['E', 'O']\n",
      "best next guess: I , probability of the guess:  0.6365554141009603\n"
     ]
    }
   ],
   "source": [
    "inputs = \"_____\", [\"E\", \"O\"]\n",
    "print(\"correctly guessed: \", inputs[0], \", incorrectly guessed: \", inputs[1])\n",
    "outputs = next_guess(word_data, *inputs)\n",
    "print(\"best next guess:\", outputs[0], \", probability of the guess: \", outputs[1])"
   ]
  },
  {
   "cell_type": "code",
   "execution_count": 12,
   "metadata": {},
   "outputs": [
    {
     "name": "stdout",
     "output_type": "stream",
     "text": [
      "correctly guessed:  D__I_ , incorrectly guessed:  []\n",
      "best next guess: A , probability of the guess:  0.8206845238095237\n"
     ]
    }
   ],
   "source": [
    "inputs = \"D__I_\", []\n",
    "print(\"correctly guessed: \", inputs[0], \", incorrectly guessed: \", inputs[1])\n",
    "outputs = next_guess(word_data, *inputs)\n",
    "print(\"best next guess:\", outputs[0], \", probability of the guess: \", outputs[1])"
   ]
  },
  {
   "cell_type": "code",
   "execution_count": 13,
   "metadata": {},
   "outputs": [
    {
     "name": "stdout",
     "output_type": "stream",
     "text": [
      "correctly guessed:  D__I_ , incorrectly guessed:  ['A']\n",
      "best next guess: E , probability of the guess:  0.7520746887966806\n"
     ]
    }
   ],
   "source": [
    "inputs = \"D__I_\", [\"A\"]\n",
    "print(\"correctly guessed: \", inputs[0], \", incorrectly guessed: \", inputs[1])\n",
    "outputs = next_guess(word_data, *inputs)\n",
    "print(\"best next guess:\", outputs[0], \", probability of the guess: \", outputs[1])"
   ]
  },
  {
   "cell_type": "code",
   "execution_count": 14,
   "metadata": {},
   "outputs": [
    {
     "name": "stdout",
     "output_type": "stream",
     "text": [
      "correctly guessed:  _U___ , incorrectly guessed:  ['A', 'E', 'I', 'O', 'S']\n",
      "best next guess: Y , probability of the guess:  0.6269651101630528\n"
     ]
    }
   ],
   "source": [
    "inputs = \"_U___\", [\"A\", \"E\", \"I\", \"O\", \"S\"]\n",
    "print(\"correctly guessed: \", inputs[0], \", incorrectly guessed: \", inputs[1])\n",
    "outputs = next_guess(word_data, *inputs)\n",
    "print(\"best next guess:\", outputs[0], \", probability of the guess: \", outputs[1])"
   ]
  }
 ],
 "metadata": {
  "kernelspec": {
   "display_name": "Python 3.10.0 64-bit",
   "language": "python",
   "name": "python3"
  },
  "language_info": {
   "codemirror_mode": {
    "name": "ipython",
    "version": 3
   },
   "file_extension": ".py",
   "mimetype": "text/x-python",
   "name": "python",
   "nbconvert_exporter": "python",
   "pygments_lexer": "ipython3",
   "version": "3.10.0"
  },
  "orig_nbformat": 4,
  "vscode": {
   "interpreter": {
    "hash": "369f2c481f4da34e4445cda3fffd2e751bd1c4d706f27375911949ba6bb62e1c"
   }
  }
 },
 "nbformat": 4,
 "nbformat_minor": 2
}
